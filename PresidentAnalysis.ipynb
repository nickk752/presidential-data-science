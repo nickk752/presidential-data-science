{
 "cells": [
  {
   "cell_type": "code",
   "execution_count": 3,
   "metadata": {
    "collapsed": true
   },
   "outputs": [],
   "source": [
    "import pandas as pd\n",
    "import numpy as np\n",
    "import requests\n",
    "from lxml import html\n",
    "from bs4 import BeautifulSoup"
   ]
  },
  {
   "cell_type": "code",
   "execution_count": 6,
   "metadata": {
    "collapsed": false
   },
   "outputs": [],
   "source": [
    "r = requests.get('http://www.presidency.ucsb.edu/data.php')\n",
    "soup = BeautifulSoup(r.text, 'lxml')"
   ]
  },
  {
   "cell_type": "code",
   "execution_count": 16,
   "metadata": {
    "collapsed": false
   },
   "outputs": [],
   "source": [
    "#print(soup.prettify())"
   ]
  },
  {
   "cell_type": "code",
   "execution_count": 15,
   "metadata": {
    "collapsed": false
   },
   "outputs": [
    {
     "name": "stdout",
     "output_type": "stream",
     "text": [
      "<td align=\"left\" class=\"doclist\">\n",
      " <ul>\n",
      "  <li>\n",
      "   Length in words of State of the Union Messages (Washington - Clinton)\n",
      "   <a href=\"data/statechart_large.php\" target=\"_blank\">\n",
      "    large chart\n",
      "   </a>\n",
      "   |\n",
      "   <a href=\"data/statechart_small.php\" target=\"_blank\">\n",
      "    small chart\n",
      "   </a>\n",
      "  </li>\n",
      "  <li>\n",
      "   <a href=\"inaugurals.php\" target=\"_blank\">\n",
      "    Length in words of Inaugural Addresses\n",
      "   </a>\n",
      "   (Washington - Obama)\n",
      "  </li>\n",
      " </ul>\n",
      "</td>\n",
      "\n",
      "<td align=\"left\" class=\"doclist\">\n",
      " <ul>\n",
      "  <li>\n",
      "   <a href=\"acting_presidents.php\">\n",
      "    Acting Presidents Under Amendment 25, Section 3\n",
      "   </a>\n",
      "  </li>\n",
      " </ul>\n",
      "</td>\n",
      "\n"
     ]
    }
   ],
   "source": [
    "for table in soup.findAll('td', class_='doclist'):\n",
    "    print(table.prettify())"
   ]
  },
  {
   "cell_type": "code",
   "execution_count": null,
   "metadata": {
    "collapsed": true
   },
   "outputs": [],
   "source": []
  }
 ],
 "metadata": {
  "kernelspec": {
   "display_name": "Python [conda root]",
   "language": "python",
   "name": "conda-root-py"
  },
  "language_info": {
   "codemirror_mode": {
    "name": "ipython",
    "version": 3
   },
   "file_extension": ".py",
   "mimetype": "text/x-python",
   "name": "python",
   "nbconvert_exporter": "python",
   "pygments_lexer": "ipython3",
   "version": "3.5.2"
  }
 },
 "nbformat": 4,
 "nbformat_minor": 1
}
