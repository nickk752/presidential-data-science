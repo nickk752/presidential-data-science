{
 "cells": [
  {
   "cell_type": "markdown",
   "metadata": {},
   "source": [
    "**Analysis of Presidential speech and election data**\n",
    "\n",
    "This notebook scrapes [The American Presidency Project](http://www.presidency.ucsb.edu) and downloads the campagin speeches of all 2016 presidential candidates.  It then builds a markov chain out each president's data capable of generating sentences in the style of their campaign speeches. "
   ]
  },
  {
   "cell_type": "code",
   "execution_count": 4,
   "metadata": {
    "collapsed": true
   },
   "outputs": [],
   "source": [
    "import pandas as pd\n",
    "import numpy as np\n",
    "import requests\n",
    "from lxml import html\n",
    "from bs4 import BeautifulSoup\n",
    "import markovify\n",
    "import os.path"
   ]
  },
  {
   "cell_type": "code",
   "execution_count": 5,
   "metadata": {
    "collapsed": false
   },
   "outputs": [],
   "source": [
    "\n",
    "def getCandidateSpeechLinks(url):\n",
    "    allCandidatePage = requests.get(url)\n",
    "    allCandidatePageSoup = BeautifulSoup(allCandidatePage.text, 'lxml')\n",
    "    links={}\n",
    "    table = allCandidatePageSoup.find('table', width=680)\n",
    "    for area in table.findAll('td', class_='doctext'):\n",
    "        for a in area.findAll('a'):\n",
    "            if ('campaign' in a.text.lower()):\n",
    "                links[area.find('span', class_='roman').text] = a['href']\n",
    "    return links\n",
    "\n",
    "def scrapeCampaignSpeechesToFile(url, path):\n",
    "    allSpeechPages = requests.get(url)\n",
    "    allSpeechSoup=BeautifulSoup(allSpeechPages.text, 'lxml')\n",
    "    root = 'http://www.presidency.ucsb.edu/'\n",
    "    table = allSpeechSoup.find('table', width=700)\n",
    "    links = []\n",
    "    for link in table.findAll('a'):\n",
    "        if('interview' not in link.text.lower()):\n",
    "            links.append(root+(link['href'])[3:])\n",
    "\n",
    "    speechPages = [requests.get(link , 'lxml')for link in links]\n",
    "    speechesSoup = [BeautifulSoup(speechPage.text, 'lxml') for speechPage in speechPages]\n",
    "    \n",
    "    if (not os.path.isfile(path)):\n",
    "        with open(path, \"w+\", encoding='utf-8') as outFile:\n",
    "            outFile.seek(0)\n",
    "            for i,speech in enumerate(speechesSoup):            \n",
    "                outFile.write(speechesSoup[i].find('span', class_='displaytext').text+'\\n')\n",
    "\n",
    "def trainMarkov(path):\n",
    "\n",
    "    # Get raw text as string.\n",
    "    with open(path, encoding='utf-8') as f:\n",
    "        text = f.read()\n",
    "\n",
    "    # Build the model.\n",
    "    text_model = markovify.Text(text)\n",
    "    return text_model\n",
    "\n",
    "def campaignLinkToBots(url):\n",
    "    \n",
    "    dataFolder = './Campaign Speeches/'\n",
    "    \n",
    "    #Create the dictionary of each candidate's name and link to their campaign speech page    \n",
    "    campaignSpeechLinkDict = getCandidateSpeechLinks(url)\n",
    "    \n",
    "    root = 'http://www.presidency.ucsb.edu/'\n",
    "    \n",
    "    #Loops through the campagin speech links, puts each candidate's campagin speeches into individual files\n",
    "    for name, url in campaignSpeechLinkDict.items():\n",
    "        path = dataFolder + name.replace(' ', '-') + '.txt'\n",
    "        scrapeCampaignSpeechesToFile(root + url, path)\n",
    "    \n",
    "    #Train the bots and store them in a dictionary\n",
    "    bots = {}\n",
    "    for pres in campaignSpeechLinkDict.keys():\n",
    "        bots[pres] = trainMarkov(dataFolder + pres.replace(' ', '-') + '.txt')\n",
    "    \n",
    "    #return the bot dictionary\n",
    "    return bots"
   ]
  },
  {
   "cell_type": "code",
   "execution_count": null,
   "metadata": {
    "collapsed": false,
    "scrolled": true
   },
   "outputs": [],
   "source": [
    "bots = campaignLinkToBots('http://www.presidency.ucsb.edu/2016_election.php')\n",
    "\n",
    "for name,bot in bots.items():\n",
    "    print('\\n' + name + ': ')\n",
    "    for i in range(10):\n",
    "        print(bot.make_short_sentence(max_chars=140))"
   ]
  },
  {
   "cell_type": "code",
   "execution_count": null,
   "metadata": {
    "collapsed": true
   },
   "outputs": [],
   "source": []
  }
 ],
 "metadata": {
  "anaconda-cloud": {},
  "kernelspec": {
   "display_name": "Python [conda root]",
   "language": "python",
   "name": "conda-root-py"
  },
  "language_info": {
   "codemirror_mode": {
    "name": "ipython",
    "version": 3
   },
   "file_extension": ".py",
   "mimetype": "text/x-python",
   "name": "python",
   "nbconvert_exporter": "python",
   "pygments_lexer": "ipython3",
   "version": "3.5.2"
  }
 },
 "nbformat": 4,
 "nbformat_minor": 1
}
