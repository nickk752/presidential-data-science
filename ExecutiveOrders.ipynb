{
 "cells": [
  {
   "cell_type": "code",
   "execution_count": 1,
   "metadata": {
    "collapsed": true
   },
   "outputs": [],
   "source": [
    "import pandas as pd\n",
    "import numpy as np\n",
    "import requests\n",
    "from lxml import html\n",
    "from bs4 import BeautifulSoup\n",
    "import os.path\n",
    "from datetime import datetime, timedelta\n",
    "import calendar\n",
    "import matplotlib.pyplot as plt\n",
    "\n",
    "%matplotlib inline\n",
    "import seaborn as sns\n",
    "import re"
   ]
  },
  {
   "cell_type": "code",
   "execution_count": 2,
   "metadata": {
    "collapsed": true
   },
   "outputs": [],
   "source": [
    "pathEo='./eos.csv'"
   ]
  },
  {
   "cell_type": "code",
   "execution_count": 3,
   "metadata": {
    "scrolled": true
   },
   "outputs": [
    {
     "name": "stdout",
     "output_type": "stream",
     "text": [
      "2016\n",
      "2012\n",
      "2008\n",
      "2004\n",
      "2000\n",
      "1996\n",
      "1992\n",
      "1988\n",
      "1984\n",
      "1980\n",
      "1976\n",
      "1972\n",
      "1968\n",
      "1964\n",
      "1960\n",
      "1956\n",
      "1952\n",
      "1948\n",
      "1944\n",
      "1940\n",
      "1936\n",
      "1932\n",
      "1928\n",
      "1924\n",
      "1920\n",
      "1916\n",
      "1912\n",
      "1908\n",
      "1904\n",
      "1900\n",
      "1896\n",
      "1892\n",
      "1888\n",
      "1884\n",
      "1880\n",
      "1876\n",
      "1872\n",
      "1868\n",
      "1864\n",
      "1860\n",
      "1856\n",
      "1852\n",
      "1848\n",
      "1844\n",
      "1840\n",
      "1836\n",
      "1832\n",
      "1828\n"
     ]
    }
   ],
   "source": [
    "if os.path.isfile(pathEo):\n",
    "    os.remove(pathEo)\n",
    "\n",
    "    \n",
    "eoYear=2017\n",
    "with open(pathEo, 'a') as f:    \n",
    "    while (eoYear >= 1826):\n",
    "        if eoYear % 4 == 0:\n",
    "            print(eoYear)\n",
    "        eoPage = requests.get('http://www.presidency.ucsb.edu/executive_orders.php?year=' + str(eoYear)+ '&Submit=DISPLAY')\n",
    "        eoYear -= 1\n",
    "        eoSoup = BeautifulSoup(eoPage.text, 'lxml')\n",
    "        eoTable = eoSoup.find('table', width='700', border='0')\n",
    "    \n",
    "\n",
    "        for row in eoTable.findAll('tr'):\n",
    "            tds = row.findAll('td')\n",
    "            if not 'president' in tds[0].text.lower():\n",
    "                f.write(tds[0].text + ',')\n",
    "                f.write('\"' + tds[1].text + '\",')\n",
    "                f.write('\"' + tds[2].text.replace(',','') + '\"\\n')"
   ]
  },
  {
   "cell_type": "code",
   "execution_count": 5,
   "metadata": {},
   "outputs": [],
   "source": [
    "\n",
    "dfEo = pd.read_csv(pathEo, encoding = \"ISO-8859-1\", index_col = False, names=['President', 'Date', 'Order'])\n",
    "\n",
    "\n",
    "dfEo['Date'] = pd.to_datetime(dfEo['Date'], format = '%B %d, %Y')\n",
    "dfEo['Year'] = dfEo['Date'].dt.year\n",
    "dfEo['Month'] = dfEo['Date'].dt.month\n",
    "dfEo['Day'] = dfEo['Date'].dt.day\n",
    "\n",
    "dfEo.set_index('Date', inplace=True)\n"
   ]
  },
  {
   "cell_type": "code",
   "execution_count": 6,
   "metadata": {},
   "outputs": [
    {
     "data": {
      "text/html": [
       "<div>\n",
       "<table border=\"1\" class=\"dataframe\">\n",
       "  <thead>\n",
       "    <tr style=\"text-align: right;\">\n",
       "      <th></th>\n",
       "      <th></th>\n",
       "      <th>col_0</th>\n",
       "      <th>Order</th>\n",
       "    </tr>\n",
       "    <tr>\n",
       "      <th>President</th>\n",
       "      <th>Year</th>\n",
       "      <th>Month</th>\n",
       "      <th></th>\n",
       "    </tr>\n",
       "  </thead>\n",
       "  <tbody>\n",
       "    <tr>\n",
       "      <th rowspan=\"5\" valign=\"top\">Abraham Lincoln</th>\n",
       "      <th rowspan=\"5\" valign=\"top\">1861</th>\n",
       "      <th>4</th>\n",
       "      <td>3</td>\n",
       "    </tr>\n",
       "    <tr>\n",
       "      <th>5</th>\n",
       "      <td>1</td>\n",
       "    </tr>\n",
       "    <tr>\n",
       "      <th>6</th>\n",
       "      <td>1</td>\n",
       "    </tr>\n",
       "    <tr>\n",
       "      <th>7</th>\n",
       "      <td>2</td>\n",
       "    </tr>\n",
       "    <tr>\n",
       "      <th>8</th>\n",
       "      <td>1</td>\n",
       "    </tr>\n",
       "  </tbody>\n",
       "</table>\n",
       "</div>"
      ],
      "text/plain": [
       "col_0                       Order\n",
       "President       Year Month       \n",
       "Abraham Lincoln 1861 4          3\n",
       "                     5          1\n",
       "                     6          1\n",
       "                     7          2\n",
       "                     8          1"
      ]
     },
     "execution_count": 6,
     "metadata": {},
     "output_type": "execute_result"
    }
   ],
   "source": [
    "ct = pd.crosstab([dfEo.President, dfEo.Year, dfEo.Month], columns='Order')\n",
    "ct.head()\n",
    "#ct.xs('Abraham Lincoln', level='President')"
   ]
  },
  {
   "cell_type": "code",
   "execution_count": 7,
   "metadata": {},
   "outputs": [
    {
     "data": {
      "text/html": [
       "<div>\n",
       "<table border=\"1\" class=\"dataframe\">\n",
       "  <thead>\n",
       "    <tr style=\"text-align: right;\">\n",
       "      <th></th>\n",
       "      <th></th>\n",
       "      <th>col_0</th>\n",
       "      <th>Order</th>\n",
       "    </tr>\n",
       "    <tr>\n",
       "      <th>President</th>\n",
       "      <th>Year</th>\n",
       "      <th>Month</th>\n",
       "      <th></th>\n",
       "    </tr>\n",
       "  </thead>\n",
       "  <tbody>\n",
       "    <tr>\n",
       "      <th rowspan=\"5\" valign=\"top\">Barack Obama</th>\n",
       "      <th rowspan=\"5\" valign=\"top\">2009</th>\n",
       "      <th>1</th>\n",
       "      <td>9</td>\n",
       "    </tr>\n",
       "    <tr>\n",
       "      <th>2</th>\n",
       "      <td>7</td>\n",
       "    </tr>\n",
       "    <tr>\n",
       "      <th>3</th>\n",
       "      <td>2</td>\n",
       "    </tr>\n",
       "    <tr>\n",
       "      <th>4</th>\n",
       "      <td>1</td>\n",
       "    </tr>\n",
       "    <tr>\n",
       "      <th>5</th>\n",
       "      <td>1</td>\n",
       "    </tr>\n",
       "  </tbody>\n",
       "</table>\n",
       "</div>"
      ],
      "text/plain": [
       "col_0                    Order\n",
       "President    Year Month       \n",
       "Barack Obama 2009 1          9\n",
       "                  2          7\n",
       "                  3          2\n",
       "                  4          1\n",
       "                  5          1"
      ]
     },
     "execution_count": 7,
     "metadata": {},
     "output_type": "execute_result"
    }
   ],
   "source": [
    "ctObama = ct.loc[ct.index.get_level_values('President')=='Barack Obama']\n",
    "ctObama.head()\n",
    "#ctObama.index"
   ]
  },
  {
   "cell_type": "code",
   "execution_count": 8,
   "metadata": {},
   "outputs": [],
   "source": [
    "eo_path = './Executive Orders/'\n",
    "\n",
    "pres='Barack Obama'\n",
    "for pres in dfEo.President.unique():\n",
    "    if not os.path.isfile(os.path.join(eo_path, pres.replace(' ', '-')+'.png')):\n",
    "        print(pres)\n",
    "        dateRange = pd.DatetimeIndex(start=dfEo[dfEo.President == pres].index.min()- timedelta(days=60), end=dfEo[dfEo.President == pres].index.max(), freq='M')\n",
    "        x = dfEo[dfEo.President==pres].groupby(pd.TimeGrouper('M')).Order.count()\n",
    "\n",
    "        fig, ax = plt.subplots()\n",
    "\n",
    "        ax.set(title=pres, ylabel='Number of Executive Orders', xlabel='Month')\n",
    "\n",
    "        plt.xticks(rotation=70)\n",
    "        ax.plot(x.index, x)\n",
    "        ax.xaxis.set_major_formatter(mdates.DateFormatter('%Y-%m'))\n",
    "\n",
    "        plt.savefig(os.path.join(eo_path, pres.replace(' ', '-')+'.png'))"
   ]
  },
  {
   "cell_type": "code",
   "execution_count": 9,
   "metadata": {},
   "outputs": [],
   "source": [
    "eo_path = './Executive Orders/'\n",
    "\n",
    "pres='Barack Obama'\n",
    "\n",
    "if not os.path.isfile(os.path.join(eo_path, pres.replace(' ', '-')+'.png')):\n",
    "    print(pres)\n",
    "    dateRange = pd.DatetimeIndex(start=dfEo[dfEo.President == pres].index.min()- timedelta(days=60), end=dfEo[dfEo.President == pres].index.max(), freq='M')\n",
    "    x = dfEo[dfEo.President==pres].groupby(pd.TimeGrouper('M')).Order.count()\n",
    "\n",
    "    fig, ax = plt.subplots()\n",
    "\n",
    "    ax.set(title=pres, ylabel='Number of Executive Orders', xlabel='Month')\n",
    "\n",
    "    plt.xticks(rotation=70)\n",
    "    ax.plot(x.index, x)\n",
    "    ax.xaxis.set_major_formatter(mdates.DateFormatter('%Y-%m'))\n",
    "\n",
    "    plt.savefig(os.path.join(eo_path, pres.replace(' ', '-')+'.png'))"
   ]
  },
  {
   "cell_type": "code",
   "execution_count": null,
   "metadata": {
    "collapsed": true
   },
   "outputs": [],
   "source": []
  },
  {
   "cell_type": "code",
   "execution_count": 10,
   "metadata": {
    "scrolled": true
   },
   "outputs": [
    {
     "ename": "SyntaxError",
     "evalue": "invalid syntax (<ipython-input-10-9ed5d39e62b9>, line 2)",
     "output_type": "error",
     "traceback": [
      "\u001b[1;36m  File \u001b[1;32m\"<ipython-input-10-9ed5d39e62b9>\"\u001b[1;36m, line \u001b[1;32m2\u001b[0m\n\u001b[1;33m    ct.hist(column=)\u001b[0m\n\u001b[1;37m                   ^\u001b[0m\n\u001b[1;31mSyntaxError\u001b[0m\u001b[1;31m:\u001b[0m invalid syntax\n"
     ]
    }
   ],
   "source": [
    "ct = pd.crosstab(dfEo.President, dfEo.Order.count())\n",
    "ct.hist(column=)\n",
    "#plt.bar(ct)"
   ]
  },
  {
   "cell_type": "code",
   "execution_count": null,
   "metadata": {
    "collapsed": true
   },
   "outputs": [],
   "source": []
  },
  {
   "cell_type": "code",
   "execution_count": null,
   "metadata": {
    "collapsed": true
   },
   "outputs": [],
   "source": []
  },
  {
   "cell_type": "code",
   "execution_count": null,
   "metadata": {
    "collapsed": true
   },
   "outputs": [],
   "source": []
  }
 ],
 "metadata": {
  "anaconda-cloud": {},
  "kernelspec": {
   "display_name": "Python [conda root]",
   "language": "python",
   "name": "conda-root-py"
  },
  "language_info": {
   "codemirror_mode": {
    "name": "ipython",
    "version": 3
   },
   "file_extension": ".py",
   "mimetype": "text/x-python",
   "name": "python",
   "nbconvert_exporter": "python",
   "pygments_lexer": "ipython3",
   "version": "3.5.2"
  }
 },
 "nbformat": 4,
 "nbformat_minor": 2
}
