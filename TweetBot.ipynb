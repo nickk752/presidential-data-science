{
 "cells": [
  {
   "cell_type": "code",
   "execution_count": 1,
   "metadata": {},
   "outputs": [],
   "source": [
    "import twitter\n",
    "import os\n",
    "from markovbot35 import MarkovBot\n",
    "import json\n",
    "from pprint import pprint\n",
    "\n",
    "keys_path = './twitterkeys.txt'\n",
    "donfolder='./Campaign Speeches/2016/'\n",
    "\n",
    "\n",
    "#corpus = os.path.join(donfolder, 'Donald-Trump.txt')\n",
    "keys=[]\n",
    "\n",
    "with open(keys_path) as f:\n",
    "    keys=json.load(f)\n"
   ]
  },
  {
   "cell_type": "code",
   "execution_count": 2,
   "metadata": {},
   "outputs": [],
   "source": [
    "presidents=[p for p in keys]"
   ]
  },
  {
   "cell_type": "code",
   "execution_count": 3,
   "metadata": {
    "collapsed": true
   },
   "outputs": [],
   "source": [
    "bots={}"
   ]
  },
  {
   "cell_type": "code",
   "execution_count": 4,
   "metadata": {},
   "outputs": [
    {
     "name": "stdout",
     "output_type": "stream",
     "text": [
      "Yet they are donating to Hillary Clinton.\n",
      "Adults will be proposing a new business plan.\n",
      "Am all about. In my view, if we invaded Iraq.\n",
      "{'Donald Trump': <markovbot35.MarkovBot object at 0x000001F2A01B1BA8>, 'Bernie Sanders': <markovbot35.MarkovBot object at 0x000001F2A048BC18>, 'Hillary Clinton ': <markovbot35.MarkovBot object at 0x000001F2A01C6358>}\n"
     ]
    }
   ],
   "source": [
    "for pres in keys:\n",
    "    corpus = donfolder + pres.replace(' ', '-')+'.txt'\n",
    "    bot = MarkovBot()\n",
    "    bot.read(corpus.encode(encoding='utf-8'))\n",
    "    print(bot.generate_text(10))\n",
    "    bots[pres]=bot\n",
    "print(bots)"
   ]
  },
  {
   "cell_type": "code",
   "execution_count": 5,
   "metadata": {
    "scrolled": true
   },
   "outputs": [],
   "source": [
    "\n",
    "for pres in keys:\n",
    "    bots[pres].twitter_login(keys[pres]['cons_key'],keys[pres]['cons_secret'],keys[pres]['access_token'],keys[pres]['access_token_secret'])"
   ]
  },
  {
   "cell_type": "code",
   "execution_count": 9,
   "metadata": {},
   "outputs": [
    {
     "ename": "Exception",
     "evalue": "ERROR in Markovbot.generate_text: Made 100 attempts to generate text, but all failed. ",
     "output_type": "error",
     "traceback": [
      "\u001b[1;31m---------------------------------------------------------------------------\u001b[0m",
      "\u001b[1;31mKeyError\u001b[0m                                  Traceback (most recent call last)",
      "\u001b[1;32mD:\\Documents\\Projects\\presidential-data-science\\markovbot35.py\u001b[0m in \u001b[0;36mgenerate_text\u001b[1;34m(self, maxlength, seedword, database, verbose, maxtries)\u001b[0m\n\u001b[0;32m    247\u001b[0m                                                         \u001b[1;31m# check if they are the same as the key\u001b[0m\u001b[1;33m\u001b[0m\u001b[1;33m\u001b[0m\u001b[0m\n\u001b[1;32m--> 248\u001b[1;33m                                                         \u001b[1;32mif\u001b[0m \u001b[0mseedword\u001b[0m\u001b[1;33m[\u001b[0m\u001b[1;36m0\u001b[0m\u001b[1;33m]\u001b[0m \u001b[1;32min\u001b[0m \u001b[0mkeys\u001b[0m\u001b[1;33m[\u001b[0m\u001b[0mi\u001b[0m\u001b[1;33m]\u001b[0m \u001b[1;32mor\u001b[0m\u001b[0;31m \u001b[0m\u001b[0;31m\\\u001b[0m\u001b[1;33m\u001b[0m\u001b[0m\n\u001b[0m\u001b[0;32m    249\u001b[0m \t\t\t\t\t\t\t\t(tuple(seedword[0].split(u' ')) == \\\n",
      "\u001b[1;31mKeyError\u001b[0m: 0",
      "\nDuring handling of the above exception, another exception occurred:\n",
      "\u001b[1;31mException\u001b[0m                                 Traceback (most recent call last)",
      "\u001b[1;32m<ipython-input-9-07ce4ab301b9>\u001b[0m in \u001b[0;36m<module>\u001b[1;34m()\u001b[0m\n\u001b[1;32m----> 1\u001b[1;33m \u001b[0mprint\u001b[0m\u001b[1;33m(\u001b[0m\u001b[0mbots\u001b[0m\u001b[1;33m[\u001b[0m\u001b[1;34m'Donald Trump'\u001b[0m\u001b[1;33m]\u001b[0m\u001b[1;33m.\u001b[0m\u001b[0mgenerate_text\u001b[0m\u001b[1;33m(\u001b[0m\u001b[1;36m10\u001b[0m\u001b[1;33m,\u001b[0m \u001b[0mseedword\u001b[0m\u001b[1;33m=\u001b[0m\u001b[1;33m[\u001b[0m\u001b[1;34m'a'\u001b[0m\u001b[1;33m]\u001b[0m\u001b[1;33m)\u001b[0m\u001b[1;33m)\u001b[0m\u001b[1;33m\u001b[0m\u001b[0m\n\u001b[0m",
      "\u001b[1;32mD:\\Documents\\Projects\\presidential-data-science\\markovbot35.py\u001b[0m in \u001b[0;36mgenerate_text\u001b[1;34m(self, maxlength, seedword, database, verbose, maxtries)\u001b[0m\n\u001b[0;32m    324\u001b[0m                                 \u001b[1;31m# making any further attempts\u001b[0m\u001b[1;33m\u001b[0m\u001b[1;33m\u001b[0m\u001b[0m\n\u001b[0;32m    325\u001b[0m                                 \u001b[1;32mif\u001b[0m \u001b[0mattempts\u001b[0m \u001b[1;33m>=\u001b[0m \u001b[0mmaxtries\u001b[0m\u001b[1;33m:\u001b[0m\u001b[1;33m\u001b[0m\u001b[0m\n\u001b[1;32m--> 326\u001b[1;33m                                         \u001b[0mself\u001b[0m\u001b[1;33m.\u001b[0m\u001b[0m_error\u001b[0m\u001b[1;33m(\u001b[0m\u001b[1;34mu'generate_text'\u001b[0m\u001b[1;33m,\u001b[0m \u001b[1;34mu\"Made %d attempts to generate text, but all failed. \"\u001b[0m \u001b[1;33m%\u001b[0m \u001b[1;33m(\u001b[0m\u001b[0mattempts\u001b[0m\u001b[1;33m)\u001b[0m\u001b[1;33m)\u001b[0m\u001b[1;33m\u001b[0m\u001b[0m\n\u001b[0m\u001b[0;32m    327\u001b[0m \u001b[1;33m\u001b[0m\u001b[0m\n\u001b[0;32m    328\u001b[0m                 \u001b[1;32mreturn\u001b[0m \u001b[0msentence\u001b[0m\u001b[1;33m\u001b[0m\u001b[0m\n",
      "\u001b[1;32mD:\\Documents\\Projects\\presidential-data-science\\markovbot35.py\u001b[0m in \u001b[0;36m_error\u001b[1;34m(self, methodname, msg)\u001b[0m\n\u001b[0;32m   1386\u001b[0m \t\t\"\"\"\n\u001b[0;32m   1387\u001b[0m \u001b[1;33m\u001b[0m\u001b[0m\n\u001b[1;32m-> 1388\u001b[1;33m                 \u001b[1;32mraise\u001b[0m \u001b[0mException\u001b[0m\u001b[1;33m(\u001b[0m\u001b[1;34mu\"ERROR in Markovbot.%s: %s\"\u001b[0m \u001b[1;33m%\u001b[0m \u001b[1;33m(\u001b[0m\u001b[0mmethodname\u001b[0m\u001b[1;33m,\u001b[0m \u001b[0mmsg\u001b[0m\u001b[1;33m)\u001b[0m\u001b[1;33m)\u001b[0m\u001b[1;33m\u001b[0m\u001b[0m\n\u001b[0m\u001b[0;32m   1389\u001b[0m \u001b[1;33m\u001b[0m\u001b[0m\n\u001b[0;32m   1390\u001b[0m \u001b[1;33m\u001b[0m\u001b[0m\n",
      "\u001b[1;31mException\u001b[0m: ERROR in Markovbot.generate_text: Made 100 attempts to generate text, but all failed. "
     ]
    }
   ],
   "source": [
    "print(bots['Donald Trump'].generate_text(10, seedword=['a']))"
   ]
  },
  {
   "cell_type": "code",
   "execution_count": 28,
   "metadata": {},
   "outputs": [],
   "source": [
    "bots['Donald Trump'].twitter_tweeting_start(days=0, hours=0, minutes=3, keywords=None, prefix=None, suffix=None)\n",
    "\n"
   ]
  },
  {
   "cell_type": "code",
   "execution_count": 29,
   "metadata": {},
   "outputs": [
    {
     "name": "stdout",
     "output_type": "stream",
     "text": [
      "MSG from Markovbot._autotweet: Posted tweet: And four months away from you. We're very proud of our vets. So, so important.\n",
      "MSG from Markovbot._autotweet: Next tweet in 3 minutes.\n"
     ]
    }
   ],
   "source": [
    "bots['Donald Trump'].twitter_autoreply_start('crooked', keywords=['crooked', 'hillary'], mindelay=.5)"
   ]
  },
  {
   "cell_type": "code",
   "execution_count": 27,
   "metadata": {
    "collapsed": true
   },
   "outputs": [],
   "source": [
    "bots['Donald Trump'].twitter_autoreply_stop()\n",
    "bots['Donald Trump'].twitter_tweeting_stop()"
   ]
  },
  {
   "cell_type": "code",
   "execution_count": null,
   "metadata": {},
   "outputs": [],
   "source": []
  },
  {
   "cell_type": "code",
   "execution_count": 11,
   "metadata": {},
   "outputs": [
    {
     "name": "stdout",
     "output_type": "stream",
     "text": [
      "MSG from Markovbot._autotweet: Posted tweet: Power jobs in America when you have shown, there are good jobs, and more.\n",
      "MSG from Markovbot._autotweet: Next tweet in 1 minutes.\n",
      "MSG from Markovbot._autotweet: Posted tweet: Three days later. That is wrong. It is a no brainer to suggest we need to do that.\n",
      "MSG from Markovbot._autotweet: Next tweet in 1 minutes.\n",
      "MSG from Markovbot._autotweet: Posted tweet: Are removed out of our country. We've spent six trillion dollars. She has supported the TPP. Guaranteed.\n",
      "MSG from Markovbot._autotweet: Next tweet in 1 minutes.\n",
      "MSG from Markovbot._autotweet: Posted tweet: Who knocked on doors and making sure we have certain core rights that people who deserve economic justice.\n",
      "MSG from Markovbot._autotweet: Next tweet in 1 minutes.\n",
      "MSG from Markovbot._autotweet: Posted tweet: Circumstances. I believe I can tell you a few years ago, the trade union movement because you're driving wages up.\n",
      "MSG from Markovbot._autotweet: Next tweet in 1 minutes.\n",
      "MSG from Markovbot._autotweet: Posted tweet: Of time to hold democratic politicians accountable for their personal benefit.\n",
      "MSG from Markovbot._autotweet: Next tweet in 1 minutes.\n",
      "MSG from Markovbot._autotweet: Posted tweet: To college? Will we set about proving it. In the years and even along the border hinges on the beat.\n",
      "MSG from Markovbot._autotweet: Next tweet in 1 minutes.\n",
      "MSG from Markovbot._autotweet: Posted tweet: The minimum wage and must be talked about are going to expand Social Security; that we do with the former minister.\n",
      "MSG from Markovbot._autotweet: Next tweet in 1 minutes.\n",
      "MSG from Markovbot._autotweet: Posted tweet: Of taking charge that night, Hillary Clinton wants to effectively abolish the Second Amendment people, maybe there is.\n",
      "MSG from Markovbot._autotweet: Next tweet in 1 minutes.\n",
      "MSG from Markovbot._autotweet: Posted tweet: Facilitate their travel, forge documents, and evade detection. And the big problems we face. As we saw that for too neglected.\n",
      "MSG from Markovbot._autotweet: Next tweet in 1 minutes.\n",
      "MSG from Markovbot._autotweet: Posted tweet: Is? This private insurance obscenity which said to begin an entirely new set of policies.\n",
      "MSG from Markovbot._autotweet: Next tweet in 1 minutes.\n",
      "MSG from Markovbot._autotweet: Posted tweet: Syria. We've seen the devastation caused by Hillary Clinton. Follow the Money.\n",
      "MSG from Markovbot._autotweet: Next tweet in 1 minutes.\n",
      "MSG from Markovbot._autotweet: Posted tweet: Were behind these women and girls because Any of you see them or refuses to take him.\n",
      "MSG from Markovbot._autotweet: Next tweet in 1 minutes.\n",
      "MSG from Markovbot._autotweet: Posted tweet: Street reform means breaking up the Greek people, which they do not matter, and that, to my perspective, is unacceptable.\n",
      "MSG from Markovbot._autotweet: Next tweet in 1 minutes.\n",
      "MSG from Markovbot._autotweet: Posted tweet: Election if she were to be a great education, and a very bad for us. They're not good.\n",
      "MSG from Markovbot._autotweet: Next tweet in 1 minutes.\n",
      "MSG from Markovbot._autotweet: Posted tweet: Our government have to rebuild the economy, let's make sure that we should go into people's homes.\n",
      "MSG from Markovbot._autotweet: Next tweet in 1 minutes.\n",
      "MSG from Markovbot._autotweet: Posted tweet: Grexit that will be heard not only be able to get medicine from Canada.\n",
      "MSG from Markovbot._autotweet: Next tweet in 1 minutes.\n",
      "MSG from Markovbot._autotweet: Posted tweet: Need or want another Clinton or withdraw from the same thing. Economic behemoth.\n",
      "MSG from Markovbot._autotweet: Next tweet in 1 minutes.\n",
      "MSG from Markovbot._autotweet: Posted tweet: Same by anybody else's. When I used to about that. We should be buying American steel.\n",
      "MSG from Markovbot._autotweet: Next tweet in 1 minutes.\n",
      "MSG from Markovbot._autotweet: Posted tweet: They disagree but they said you know what? We're going to happen. It is conservatives. I agree.\n",
      "MSG from Markovbot._autotweet: Next tweet in 1 minutes.\n",
      "MSG from Markovbot._autotweet: Posted tweet: Does. I think you'll get that apology around the world, that have been tougher on terrorism.\n",
      "MSG from Markovbot._autotweet: Next tweet in 1 minutes.\n",
      "MSG from Markovbot._autotweet: Posted tweet: Of generations of refugees, exiles, and immigrants.\n",
      "MSG from Markovbot._autotweet: Next tweet in 1 minutes.\n",
      "MSG from Markovbot._autotweet: Posted tweet: The money? I will tell you and I ask you to envisage.\n",
      "MSG from Markovbot._autotweet: Next tweet in 1 minutes.\n",
      "MSG from Markovbot._autotweet: Posted tweet: The Common Core, we're gonna have a lot of his death.\n",
      "MSG from Markovbot._autotweet: Next tweet in 1 minutes.\n",
      "MSG from Markovbot._autotweet: Posted tweet: Beings. Now, that's a radical idea.\n",
      "MSG from Markovbot._autotweet: Next tweet in 1 minutes.\n",
      "MSG from Markovbot._autotweet: Posted tweet: A picture, I promise. Ok, we've got to be more than a nurse or a daughter working, it's your issue.\n",
      "MSG from Markovbot._autotweet: Next tweet in 1 minutes.\n",
      "MSG from Markovbot._autotweet: Posted tweet: Neighborhoods. I will fight ISIS.\n",
      "MSG from Markovbot._autotweet: Next tweet in 1 minutes.\n",
      "MSG from Markovbot._autotweet: Posted tweet: Renovated unless they change their clothes or straighten their hair or stop being bossy, or whatever happens around here.\n",
      "MSG from Markovbot._autotweet: Next tweet in 1 minutes.\n",
      "MSG from Markovbot._autotweet: Posted tweet: Cosponsors for introducing this important piece in the euro is that in this country.\n",
      "MSG from Markovbot._autotweet: Next tweet in 1 minutes.\n",
      "MSG from Markovbot._autotweet: Posted tweet: Show or talk about her. I know the small business and on the right to all Americans.\n",
      "MSG from Markovbot._autotweet: Next tweet in 1 minutes.\n",
      "MSG from Markovbot._autotweet: Posted tweet: Leads to massive discontent. It leads to massive discontent. It leads to massive discontent.\n",
      "MSG from Markovbot._autotweet: Next tweet in 1 minutes.\n",
      "MSG from Markovbot._autotweet: Posted tweet: Set out to be supporting families. The challenge of global competition get the most fortunate among us.\n",
      "MSG from Markovbot._autotweet: Next tweet in 1 minutes.\n",
      "MSG from Markovbot._autotweet: Posted tweet: Prince of your life.\n",
      "MSG from Markovbot._autotweet: Next tweet in 1 minutes.\n",
      "MSG from Markovbot._autotweet: Posted tweet: Nothing happens, you just do the best educated workforce possible.\n",
      "MSG from Markovbot._autotweet: Next tweet in 1 minutes.\n",
      "MSG from Markovbot._autotweet: Posted tweet: Patient responsibility.\n",
      "MSG from Markovbot._autotweet: Next tweet in 1 minutes.\n",
      "MSG from Markovbot._autotweet: Posted tweet: Her quotes in their pain, believe me. And I respect the dignity of working people. Their financial resources are unlimited.\n",
      "MSG from Markovbot._autotweet: Next tweet in 1 minutes.\n",
      "MSG from Markovbot._autotweet: Posted tweet: To say. I didn't say I will be involved in it to work. Um, part of the past.\n",
      "MSG from Markovbot._autotweet: Next tweet in 1 minutes.\n",
      "MSG from Markovbot._autotweet: Posted tweet: Squeegee, you pick it up to volunteer.\n",
      "MSG from Markovbot._autotweet: Next tweet in 1 minutes.\n",
      "MSG from Markovbot._autotweet: Posted tweet: Almost fifty percent. Recently, at a decisive moment in America's inner cities. Remember: it has been a negative force.\n",
      "MSG from Markovbot._autotweet: Next tweet in 1 minutes.\n",
      "MSG from Markovbot._autotweet: Posted tweet: Than do the right thing. It's a fancy term from Washington to cut Social Security, we are not often heard.\n",
      "MSG from Markovbot._autotweet: Next tweet in 1 minutes.\n",
      "MSG from Markovbot._autotweet: Posted tweet: Care system, fighting for what we believe we need to raise kids under sometimes very challenging circumstances.\n",
      "MSG from Markovbot._autotweet: Next tweet in 1 minutes.\n",
      "MSG from Markovbot._autotweet: Posted tweet: Has tilts the playing field for American workers, and our media treats people of Haiti were ripped off.\n",
      "MSG from Markovbot._autotweet: Next tweet in 1 minutes.\n",
      "MSG from Markovbot._autotweet: Posted tweet: To distinguish between the very important truth. If we as a nation must be made to people.\n",
      "MSG from Markovbot._autotweet: Next tweet in 1 minutes.\n",
      "MSG from Markovbot._autotweet: Posted tweet: By honoring the government had to leave anyone out.\n",
      "MSG from Markovbot._autotweet: Next tweet in 1 minutes.\n"
     ]
    },
    {
     "name": "stdout",
     "output_type": "stream",
     "text": [
      "MSG from Markovbot._autotweet: Posted tweet: Dreams in safety and wealth to foreign powers. We proudly defend America at risk. We must provide economic opportunity.\n",
      "MSG from Markovbot._autotweet: Next tweet in 1 minutes.\n",
      "MSG from Markovbot._autotweet: Posted tweet: One. And in my opinion, have been to Baltimore, Maryland there are many more. All right?So what was told.\n",
      "MSG from Markovbot._autotweet: Next tweet in 1 minutes.\n",
      "MSG from Markovbot._autotweet: Posted tweet: Remember Love trumps hate. Thank you so much. Thank you. Senator Clinton, how does New Orleans in the wilderness.\n",
      "MSG from Markovbot._autotweet: Next tweet in 1 minutes.\n",
      "MSG from Markovbot._autotweet: Posted tweet: Looked down upon, and treated like second class citizens. This will be immune or exempt from enforcement.\n",
      "MSG from Markovbot._autotweet: Next tweet in 1 minutes.\n",
      "MSG from Markovbot._autotweet: Posted tweet: Be neighborhoods like those in need. And that is why I believe is that my opponent, Secretary Clinton defeats Mr.\n",
      "MSG from Markovbot._autotweet: Next tweet in 1 minutes.\n",
      "MSG from Markovbot._autotweet: Posted tweet: Other, compromising, finding common purpose.\n",
      "MSG from Markovbot._autotweet: Next tweet in 1 minutes.\n",
      "MSG from Markovbot._autotweet: Posted tweet: See Ford and I have no political power.\n",
      "MSG from Markovbot._autotweet: Next tweet in 1 minutes.\n",
      "MSG from Markovbot._autotweet: Posted tweet: Done that? Well, first of all financial derivatives and so forth.\n",
      "MSG from Markovbot._autotweet: Next tweet in 1 minutes.\n",
      "MSG from Markovbot._autotweet: Posted tweet: He spends a lot of pleasure to introduce a comprehensive solution. According to a public service career.\n",
      "MSG from Markovbot._autotweet: Next tweet in 1 minutes.\n",
      "MSG from Markovbot._autotweet: Posted tweet: Covering terrorism. Obsolete for that introduction, and for the wall. Mexico's by the enemy, we know it.\n",
      "MSG from Markovbot._autotweet: Next tweet in 1 minutes.\n",
      "MSG from Markovbot._autotweet: Posted tweet: Television of innocent people being shot to win here in our country?\n",
      "MSG from Markovbot._autotweet: Next tweet in 1 minutes.\n",
      "MSG from Markovbot._autotweet: Posted tweet: Unavoidable. And it's important to, you know, you asked me to your education.\n",
      "MSG from Markovbot._autotweet: Next tweet in 1 minutes.\n",
      "MSG from Markovbot._autotweet: Posted tweet: From recruiting online.\n",
      "MSG from Markovbot._autotweet: Next tweet in 1 minutes.\n",
      "MSG from Markovbot._autotweet: Posted tweet: Yet, but he's not exactly healthy. And that's what this campaign directly to the immigration issue.\n",
      "MSG from Markovbot._autotweet: Next tweet in 1 minutes.\n",
      "MSG from Markovbot._autotweet: Posted tweet: Chair for Woodbury County. Also I can win.\n",
      "MSG from Markovbot._autotweet: Next tweet in 1 minutes.\n",
      "MSG from Markovbot._autotweet: Posted tweet: Cusp of an eventual agreement between Israel and Palestine, we bring together a plan to Making America Wealthy Again.\n",
      "MSG from Markovbot._autotweet: Next tweet in 1 minutes.\n",
      "MSG from Markovbot._autotweet: Posted tweet: Policies were imposed at that point and the environmental committee, the debate over the country in the polls.\n",
      "MSG from Markovbot._autotweet: Next tweet in 1 minutes.\n",
      "MSG from Markovbot._autotweet: Posted tweet: Receiving end of the end of the criminal justice system so that it would be open to you.\n",
      "MSG from Markovbot._autotweet: Next tweet in 1 minutes.\n"
     ]
    }
   ],
   "source": [
    "\n",
    "bots['Bernie Sanders'].twitter_tweeting_start(days=0, hours=0, minutes=1, keywords=None, prefix=None, suffix=None)\n",
    "bots['Hillary Clinton '].twitter_tweeting_start(days=0, hours=0, minutes=1, keywords=None, prefix=None, suffix=None)"
   ]
  },
  {
   "cell_type": "code",
   "execution_count": 42,
   "metadata": {},
   "outputs": [
    {
     "name": "stdout",
     "output_type": "stream",
     "text": [
      "Vietnam War, he wasn't going to happen here.\n",
      "Terrorist threat.\n",
      "Haven't earned the right question to ask.\n",
      "Not receive recommended diabetes treatments. And women are respected.\n",
      "Through direct talks. The lives of people.\n",
      "And Maryland, but in order to give people a year.\n",
      "Dropped the ball. This administration is doing.\n",
      "War over that.\n",
      "Maybe by the law.\n",
      "Include any kind of economy we had a great school?\n"
     ]
    }
   ],
   "source": [
    "for i in range(10):\n",
    "    print(bots['Hillary Clinton '].generate_text(10))"
   ]
  },
  {
   "cell_type": "code",
   "execution_count": 15,
   "metadata": {
    "scrolled": true
   },
   "outputs": [],
   "source": [
    "for bot in bots:\n",
    "    bots[bot].twitter_tweeting_stop()"
   ]
  },
  {
   "cell_type": "code",
   "execution_count": null,
   "metadata": {
    "collapsed": true
   },
   "outputs": [],
   "source": []
  },
  {
   "cell_type": "code",
   "execution_count": null,
   "metadata": {
    "collapsed": true
   },
   "outputs": [],
   "source": []
  }
 ],
 "metadata": {
  "anaconda-cloud": {},
  "kernelspec": {
   "display_name": "Python [conda root]",
   "language": "python",
   "name": "conda-root-py"
  },
  "language_info": {
   "codemirror_mode": {
    "name": "ipython",
    "version": 3
   },
   "file_extension": ".py",
   "mimetype": "text/x-python",
   "name": "python",
   "nbconvert_exporter": "python",
   "pygments_lexer": "ipython3",
   "version": "3.5.2"
  }
 },
 "nbformat": 4,
 "nbformat_minor": 2
}
