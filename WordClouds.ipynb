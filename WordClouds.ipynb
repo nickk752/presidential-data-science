{
 "cells": [
  {
   "cell_type": "code",
   "execution_count": 32,
   "metadata": {
    "collapsed": false
   },
   "outputs": [],
   "source": [
    "import os\n",
    "import matplotlib.pyplot as plt\n",
    "import numpy as np\n",
    "from PIL import Image\n",
    "from wordcloud import WordCloud, STOPWORDS\n",
    "\n",
    "# Creates word cloud for each candidate in year, using the shape of imageMaskFileName\n",
    "def createWordClouds(imageMaskFileName, year):\n",
    "    for candidate_file in os.listdir('./Campaign Speeches/' + str(year)):\n",
    "        text = open('./Campaign Speeches/2016/' + candidate_file, 'r+', encoding = 'utf8').read()\n",
    "\n",
    "        mask = np.array(Image.open(imageMaskFileName))\n",
    "        \n",
    "        firstNameLastName = candidate_file.rstrip('.txt').split('-')\n",
    "        stopwords = set(STOPWORDS)\n",
    "        stopwords.add(\"applause\")\n",
    "        stopwords.add(firstNameLastName[0])\n",
    "        stopwords.add(firstNameLastName[1])\n",
    "\n",
    "        wc = WordCloud(background_color=\"white\", max_words=2000, mask=mask, stopwords=stopwords)\n",
    "        wc.generate(text)\n",
    "        wc.to_file( \"./clouds/\" + candidate_file + \".png\")"
   ]
  },
  {
   "cell_type": "code",
   "execution_count": 31,
   "metadata": {
    "collapsed": false
   },
   "outputs": [
    {
     "name": "stdout",
     "output_type": "stream",
     "text": [
      "Ben Carson\n",
      "Bernie Sanders\n",
      "Bobby Jindal\n",
      "Carly Fiorina\n",
      "Chris Christie\n",
      "Donald Trump\n",
      "George Pataki\n",
      "Hillary Clinton\n",
      "Jeb Bush\n",
      "Jim Webb\n",
      "John Kasich\n",
      "Lincoln Chafee\n",
      "Lindsey Graham\n",
      "Marco Rubio\n",
      "Martin O'Malley\n",
      "Mike Huckabee\n",
      "Rand Paul\n",
      "Rick Perry\n",
      "Rick Santorum\n",
      "Scott Walker\n",
      "Ted Cruz\n"
     ]
    }
   ],
   "source": [
    "createWordClouds('./us-map-silhouette-vector.png', 2016)"
   ]
  }
 ],
 "metadata": {
  "kernelspec": {
   "display_name": "Python 3",
   "language": "python",
   "name": "python3"
  },
  "language_info": {
   "codemirror_mode": {
    "name": "ipython",
    "version": 3
   },
   "file_extension": ".py",
   "mimetype": "text/x-python",
   "name": "python",
   "nbconvert_exporter": "python",
   "pygments_lexer": "ipython3",
   "version": "3.6.0"
  }
 },
 "nbformat": 4,
 "nbformat_minor": 2
}
